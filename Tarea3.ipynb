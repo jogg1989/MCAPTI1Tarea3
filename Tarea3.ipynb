{
 "cells": [
  {
   "cell_type": "markdown",
   "metadata": {},
   "source": [
    "# PRACTICA 3"
   ]
  },
  {
   "cell_type": "markdown",
   "metadata": {},
   "source": [
    "**Nombre:** Jorge Osvaldo Gonzalez Gonzalez\n",
    "**e-mail:** jorge.gonzalez1611@alumnos.udg.mx"
   ]
  },
  {
   "cell_type": "markdown",
   "metadata": {},
   "source": [
    "## MODULES"
   ]
  },
  {
   "cell_type": "code",
   "execution_count": 1,
   "metadata": {},
   "outputs": [],
   "source": [
    "import math\n",
    "import os \n",
    "\n",
    "import numpy as np\n",
    "import pandas as pd\n",
    "import panel as pn\n",
    "import plotly.graph_objects as go\n",
    "\n",
    "from scipy.stats import wrapcauchy\n",
    "from scipy.stats import levy_stable\n",
    "\n",
    "from scipy.spatial import distance\n"
   ]
  },
  {
   "cell_type": "markdown",
   "metadata": {},
   "source": [
    "## CLASES"
   ]
  },
  {
   "cell_type": "code",
   "execution_count": 2,
   "metadata": {},
   "outputs": [],
   "source": [
    "################# http://www.pygame.org/wiki/2DVectorClass ##################\n",
    "class Vec2d(object):\n",
    "    \"\"\"2d vector class, supports vector and scalar operators,\n",
    "       and also provides a bunch of high level functions\n",
    "       \"\"\"\n",
    "    __slots__ = ['x', 'y']\n",
    "\n",
    "    def __init__(self, x_or_pair, y = None):\n",
    "        if y == None:            \n",
    "            self.x = x_or_pair[0]\n",
    "            self.y = x_or_pair[1]\n",
    "        else:\n",
    "            self.x = x_or_pair\n",
    "            self.y = y\n",
    "            \n",
    "    # Addition\n",
    "    def __add__(self, other):\n",
    "        if isinstance(other, Vec2d):\n",
    "            return Vec2d(self.x + other.x, self.y + other.y)\n",
    "        elif hasattr(other, \"__getitem__\"):\n",
    "            return Vec2d(self.x + other[0], self.y + other[1])\n",
    "        else:\n",
    "            return Vec2d(self.x + other, self.y + other)\n",
    "\n",
    "    # Subtraction\n",
    "    def __sub__(self, other):\n",
    "        if isinstance(other, Vec2d):\n",
    "            return Vec2d(self.x - other.x, self.y - other.y)\n",
    "        elif (hasattr(other, \"__getitem__\")):\n",
    "            return Vec2d(self.x - other[0], self.y - other[1])\n",
    "        else:\n",
    "            return Vec2d(self.x - other, self.y - other)\n",
    "    \n",
    "    # Vector length\n",
    "    def get_length(self):\n",
    "        return math.sqrt(self.x**2 + self.y**2)\n",
    "    \n",
    "    # rotate vector\n",
    "    def rotated(self, angle):        \n",
    "        cos = math.cos(angle)\n",
    "        sin = math.sin(angle)\n",
    "        x = self.x*cos - self.y*sin\n",
    "        y = self.x*sin + self.y*cos\n",
    "        return Vec2d(x, y)"
   ]
  },
  {
   "cell_type": "markdown",
   "metadata": {},
   "source": [
    "## FUNCTIONS"
   ]
  },
  {
   "cell_type": "markdown",
   "metadata": {},
   "source": [
    "### Provided"
   ]
  },
  {
   "cell_type": "code",
   "execution_count": 3,
   "metadata": {},
   "outputs": [],
   "source": [
    "###############################################################################################\n",
    "# Turning angle\n",
    "###############################################################################################\n",
    "def turning_angle(vec_a, vec_b, vec_c):\n",
    "    \"\"\"\n",
    "    Arguments:\n",
    "        vec_a: First detection coordinates\n",
    "        vec_b: Second detection coordinates\n",
    "        vec_c: Third detection coordinates\n",
    "    Returns:\n",
    "        theta: Turning angle \n",
    "    \"\"\"\n",
    "    ab = vec_b-vec_a\n",
    "    norm_ab = np.linalg.norm(ab)\n",
    "    \n",
    "    bc = vec_c-vec_b\n",
    "    norm_bc = np.linalg.norm(bc)\n",
    "\n",
    "    dot_p = np.dot(ab, bc)\n",
    "    \n",
    "    cross_p = np.cross(ab, bc)\n",
    "    orient = np.sign(cross_p)\n",
    "    if orient == 0:\n",
    "        orient = 1\n",
    "    \n",
    "    cos_theta = dot_p/(norm_ab*norm_bc+np.finfo(float).eps)\n",
    "    theta = np.arccos(np.around(cos_theta,4)) * orient\n",
    "    return theta"
   ]
  },
  {
   "cell_type": "markdown",
   "metadata": {},
   "source": [
    "### Own"
   ]
  },
  {
   "cell_type": "markdown",
   "metadata": {},
   "source": [
    "#### Parsers"
   ]
  },
  {
   "cell_type": "code",
   "execution_count": 4,
   "metadata": {},
   "outputs": [],
   "source": [
    "def np_arrays_to_df(arrays, column_names): \n",
    "    df_res = pd.DataFrame(columns=column_names)\n",
    "    for i in range(0, len(arrays[0])):\n",
    "        df_res = pd.concat([df_res, pd.DataFrame(columns=column_names, data=[[arrays[j][i]  for j in range(0, len(column_names))]])], ignore_index=True)\n",
    "    return df_res"
   ]
  },
  {
   "cell_type": "markdown",
   "metadata": {},
   "source": [
    "#### Files"
   ]
  },
  {
   "cell_type": "code",
   "execution_count": 5,
   "metadata": {},
   "outputs": [],
   "source": [
    "def save_df_to_csv(df_in, path, name):\n",
    "    os.makedirs(path, exist_ok=True)\n",
    "    df_in.to_csv(f'{path}/{name}.csv', index=False)"
   ]
  },
  {
   "cell_type": "markdown",
   "metadata": {},
   "source": [
    "#### Generators"
   ]
  },
  {
   "cell_type": "markdown",
   "metadata": {},
   "source": [
    "###### Brownian Motion"
   ]
  },
  {
   "cell_type": "code",
   "execution_count": null,
   "metadata": {},
   "outputs": [],
   "source": []
  },
  {
   "cell_type": "markdown",
   "metadata": {},
   "source": [
    "##### Correlated Random Walk"
   ]
  },
  {
   "cell_type": "code",
   "execution_count": 6,
   "metadata": {},
   "outputs": [],
   "source": [
    "def generate_crw(steps, speed, coef):\n",
    "    cur_pos = Vec2d(speed, 0)\n",
    "    crw_df = pd.DataFrame([{'x': 0, 'y': 0}])\n",
    "    crw_turns = wrapcauchy.rvs(c=coef, loc=0, size=steps-1)\n",
    "    for i in range(1, steps):\n",
    "        cur_pos = cur_pos.rotated(crw_turns[i-1])\n",
    "        crw_df = pd.concat([crw_df, pd.DataFrame([{'x': crw_df.iloc[i-1, 0] + cur_pos.x, 'y': crw_df.iloc[i-1, 1] + cur_pos.y}])]) \n",
    "    return crw_df"
   ]
  },
  {
   "cell_type": "markdown",
   "metadata": {},
   "source": [
    "##### Levy Flight"
   ]
  },
  {
   "cell_type": "code",
   "execution_count": 7,
   "metadata": {},
   "outputs": [],
   "source": [
    "def generate_levy(steps, speed, cauchy, alpha, beta, std_steps):\n",
    "    cur_pos_lw = Vec2d(speed, 0)\n",
    "    lw_2d_df = pd.DataFrame([{\"x\": 0, \"y\": 0}])\n",
    "    lw_displacements = levy_stable.rvs(alpha=alpha, beta=beta, loc=std_steps)\n",
    "    # Generate trajectory by accumulation of displacements4\n",
    "    i = 1\n",
    "    while i <= steps:\n",
    "        turn_angle = wrapcauchy.rvs(c=cauchy, loc=0)\n",
    "        cur_pos_lw = cur_pos_lw.rotated(turn_angle)\n",
    "        cur_steps = abs(round(levy_stable.rvs(alpha=alpha, beta=beta, loc=std_steps))) \n",
    "\n",
    "        for j in range(0, int(cur_steps)):\n",
    "            lw_2d_df = pd.concat([lw_2d_df, pd.DataFrame([{'x': lw_2d_df.x[i-1]+cur_pos_lw.x, 'y': lw_2d_df.y[i-1]+cur_pos_lw.y}])], ignore_index=True)\n",
    "            i+=1\n",
    "            if i > steps:\n",
    "                break\n",
    "    return lw_2d_df"
   ]
  },
  {
   "cell_type": "markdown",
   "metadata": {},
   "source": [
    "#### METRICS"
   ]
  },
  {
   "cell_type": "markdown",
   "metadata": {},
   "source": [
    "###### MSD"
   ]
  },
  {
   "cell_type": "code",
   "execution_count": 8,
   "metadata": {},
   "outputs": [],
   "source": [
    "###################################################################################\n",
    "# MSD VECTOR\n",
    "###################################################################################\n",
    "def MSDVector(df_in):\n",
    "    displacement_vector = np.zeros(df_in.shape[0] - 1)\n",
    "    for tau in range(1,df_in.shape[0]):\n",
    "        ## start - Add your code here\n",
    "        MSD = np.array([distance.euclidean(df_in.iloc[i-tau], df_in.iloc[i]) ** 2\n",
    "            for i in range(tau, df_in.shape[0], 1)])\n",
    "        displacement_vector[tau-1] = MSD.mean()\n",
    "    return displacement_vector"
   ]
  }
 ],
 "metadata": {
  "interpreter": {
   "hash": "916dbcbb3f70747c44a77c7bcd40155683ae19c65e1c03b4aa3499c5328201f1"
  },
  "kernelspec": {
   "display_name": "Python 3.10.4 64-bit",
   "language": "python",
   "name": "python3"
  },
  "language_info": {
   "codemirror_mode": {
    "name": "ipython",
    "version": 3
   },
   "file_extension": ".py",
   "mimetype": "text/x-python",
   "name": "python",
   "nbconvert_exporter": "python",
   "pygments_lexer": "ipython3",
   "version": "3.10.4"
  },
  "orig_nbformat": 4
 },
 "nbformat": 4,
 "nbformat_minor": 2
}
